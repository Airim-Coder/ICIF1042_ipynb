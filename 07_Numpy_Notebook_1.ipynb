{
 "cells": [
  {
   "cell_type": "markdown",
   "id": "6a2ccb97",
   "metadata": {},
   "source": [
    "## El poder de NumPy"
   ]
  },
  {
   "cell_type": "code",
   "execution_count": null,
   "id": "6f86a057",
   "metadata": {},
   "outputs": [],
   "source": [
    "range(0, 5)"
   ]
  },
  {
   "cell_type": "code",
   "execution_count": null,
   "id": "7c2ea60f",
   "metadata": {
    "scrolled": true
   },
   "outputs": [],
   "source": [
    "list(range(0, 5))"
   ]
  },
  {
   "cell_type": "code",
   "execution_count": null,
   "id": "7c8a37b6",
   "metadata": {},
   "outputs": [],
   "source": [
    "list(range(0, 5, 2))"
   ]
  },
  {
   "cell_type": "code",
   "execution_count": 4,
   "id": "3861ebfb",
   "metadata": {},
   "outputs": [],
   "source": [
    "list1 = [1, 3, 5, 7, 9]\n",
    "list2 = [2, 4, 6, 8, 10]"
   ]
  },
  {
   "cell_type": "code",
   "execution_count": 5,
   "id": "dcadccf5",
   "metadata": {
    "scrolled": true
   },
   "outputs": [
    {
     "ename": "TypeError",
     "evalue": "can't multiply sequence by non-int of type 'list'",
     "output_type": "error",
     "traceback": [
      "\u001b[1;31m---------------------------------------------------------------------------\u001b[0m",
      "\u001b[1;31mTypeError\u001b[0m                                 Traceback (most recent call last)",
      "Cell \u001b[1;32mIn[5], line 1\u001b[0m\n\u001b[1;32m----> 1\u001b[0m \u001b[43mlist1\u001b[49m\u001b[43m \u001b[49m\u001b[38;5;241;43m*\u001b[39;49m\u001b[43m \u001b[49m\u001b[43mlist2\u001b[49m\n",
      "\u001b[1;31mTypeError\u001b[0m: can't multiply sequence by non-int of type 'list'"
     ]
    }
   ],
   "source": [
    "list1 * list2"
   ]
  },
  {
   "cell_type": "code",
   "execution_count": 6,
   "id": "9b895177",
   "metadata": {},
   "outputs": [
    {
     "name": "stdout",
     "output_type": "stream",
     "text": [
      "[2, 12, 30, 56, 90]\n"
     ]
    }
   ],
   "source": [
    "new_list = []\n",
    "\n",
    "for i in range(0, len(list1)):\n",
    "    x = list1[i] * list2[i]\n",
    "    new_list.append(x)\n",
    "\n",
    "print(new_list)"
   ]
  },
  {
   "cell_type": "code",
   "execution_count": 7,
   "id": "0fbcbda2",
   "metadata": {},
   "outputs": [],
   "source": [
    "import numpy as np"
   ]
  },
  {
   "cell_type": "code",
   "execution_count": 8,
   "id": "fce2c570",
   "metadata": {},
   "outputs": [],
   "source": [
    "x = np.array([1, 3, 5, 7, 9])\n",
    "y = np.array([2, 4, 6, 8, 10])"
   ]
  },
  {
   "cell_type": "code",
   "execution_count": null,
   "id": "d24ffc95",
   "metadata": {
    "scrolled": true
   },
   "outputs": [],
   "source": [
    "print(type(x))"
   ]
  },
  {
   "cell_type": "code",
   "execution_count": null,
   "id": "8c75bbbb",
   "metadata": {},
   "outputs": [],
   "source": [
    "x * y"
   ]
  },
  {
   "cell_type": "markdown",
   "id": "e0b185d8",
   "metadata": {},
   "source": [
    "## Creando un Arreglo NumPy con la Funcion Array()"
   ]
  },
  {
   "cell_type": "code",
   "execution_count": null,
   "id": "fd519059",
   "metadata": {},
   "outputs": [],
   "source": [
    "import numpy as np"
   ]
  },
  {
   "cell_type": "code",
   "execution_count": null,
   "id": "a16503a2",
   "metadata": {},
   "outputs": [],
   "source": [
    "np.array([2, 4, 6, 8])"
   ]
  },
  {
   "cell_type": "code",
   "execution_count": null,
   "id": "a4c5a16a",
   "metadata": {},
   "outputs": [],
   "source": [
    "variable = [5.8, 9, 7, 5]"
   ]
  },
  {
   "cell_type": "code",
   "execution_count": null,
   "id": "0ad3c2ed",
   "metadata": {},
   "outputs": [],
   "source": [
    "print(type(variable[0]))\n",
    "print(type(variable[1]))"
   ]
  },
  {
   "cell_type": "code",
   "execution_count": null,
   "id": "0f030c8b",
   "metadata": {},
   "outputs": [],
   "source": [
    "new_variable = np.array([5.8, 9, 7, 5])"
   ]
  },
  {
   "cell_type": "code",
   "execution_count": null,
   "id": "12b4f899",
   "metadata": {},
   "outputs": [],
   "source": [
    "new_variable"
   ]
  },
  {
   "cell_type": "code",
   "execution_count": null,
   "id": "e89fb9a0",
   "metadata": {},
   "outputs": [],
   "source": [
    "print(type(new_variable[0]))\n",
    "print(type(new_variable[1]))"
   ]
  },
  {
   "cell_type": "code",
   "execution_count": null,
   "id": "4a4469de",
   "metadata": {},
   "outputs": [],
   "source": [
    "new_variable2 = np.array([5.8, 9, 7, 5], dtype = \"int\")"
   ]
  },
  {
   "cell_type": "code",
   "execution_count": null,
   "id": "044d0454",
   "metadata": {},
   "outputs": [],
   "source": [
    "new_variable2"
   ]
  },
  {
   "cell_type": "markdown",
   "id": "59eb8393",
   "metadata": {},
   "source": [
    "## Creando un Arreglo NumPy con la Funcion Zeros() "
   ]
  },
  {
   "cell_type": "code",
   "execution_count": null,
   "id": "bbdd5f74",
   "metadata": {},
   "outputs": [],
   "source": [
    "import numpy as np"
   ]
  },
  {
   "cell_type": "code",
   "execution_count": null,
   "id": "8bfb74eb",
   "metadata": {},
   "outputs": [],
   "source": [
    "np.zeros(5)"
   ]
  },
  {
   "cell_type": "code",
   "execution_count": null,
   "id": "f7a5c848",
   "metadata": {},
   "outputs": [],
   "source": [
    "np.zeros((3, 5), dtype = \"int\")"
   ]
  },
  {
   "cell_type": "markdown",
   "id": "57b9190f",
   "metadata": {},
   "source": [
    "## Creando un Arreglo NumPy con la Funcion Ones() \n"
   ]
  },
  {
   "cell_type": "code",
   "execution_count": null,
   "id": "d5d17770",
   "metadata": {},
   "outputs": [],
   "source": [
    "import numpy as np"
   ]
  },
  {
   "cell_type": "code",
   "execution_count": null,
   "id": "0a01da88",
   "metadata": {},
   "outputs": [],
   "source": [
    "np.ones(10)"
   ]
  },
  {
   "cell_type": "code",
   "execution_count": null,
   "id": "f2351968",
   "metadata": {},
   "outputs": [],
   "source": [
    "np.ones((3, 4, 5), dtype = \"int\")"
   ]
  },
  {
   "cell_type": "markdown",
   "id": "4a81b100",
   "metadata": {},
   "source": [
    "## Creando un Arreglo NumPy con la Funcion Full()"
   ]
  },
  {
   "cell_type": "code",
   "execution_count": null,
   "id": "e6442b36",
   "metadata": {},
   "outputs": [],
   "source": [
    "import numpy as np"
   ]
  },
  {
   "cell_type": "code",
   "execution_count": null,
   "id": "d73a55c3",
   "metadata": {},
   "outputs": [],
   "source": [
    "np.full(8, 5)"
   ]
  },
  {
   "cell_type": "code",
   "execution_count": null,
   "id": "3a1a2848",
   "metadata": {},
   "outputs": [],
   "source": [
    "np.full((2, 3), 6, dtype = \"float\")"
   ]
  },
  {
   "cell_type": "markdown",
   "id": "ae58bda3",
   "metadata": {},
   "source": [
    "## Creando un Arreglo NumPy con la Funcion Arange() \n"
   ]
  },
  {
   "cell_type": "code",
   "execution_count": null,
   "id": "1f42ae76",
   "metadata": {},
   "outputs": [],
   "source": [
    "import numpy as np"
   ]
  },
  {
   "cell_type": "code",
   "execution_count": null,
   "id": "83638c7e",
   "metadata": {},
   "outputs": [],
   "source": [
    "np.arange(5)"
   ]
  },
  {
   "cell_type": "code",
   "execution_count": null,
   "id": "52ebcb9c",
   "metadata": {},
   "outputs": [],
   "source": [
    "example = np.arange(3, 10, dtype = \"float\")"
   ]
  },
  {
   "cell_type": "code",
   "execution_count": null,
   "id": "12e83cf7",
   "metadata": {},
   "outputs": [],
   "source": [
    "print(example)"
   ]
  },
  {
   "cell_type": "code",
   "execution_count": null,
   "id": "b9b81b2c",
   "metadata": {},
   "outputs": [],
   "source": [
    "type(example)"
   ]
  },
  {
   "cell_type": "markdown",
   "id": "db1f896e",
   "metadata": {},
   "source": [
    "## Creando un Arreglo NumPy con la Funcion Eye() "
   ]
  },
  {
   "cell_type": "code",
   "execution_count": null,
   "id": "375cf6e1",
   "metadata": {},
   "outputs": [],
   "source": [
    "import numpy as np"
   ]
  },
  {
   "cell_type": "code",
   "execution_count": null,
   "id": "2c457de8",
   "metadata": {
    "scrolled": true,
    "tags": []
   },
   "outputs": [],
   "source": [
    "np.eye(3)"
   ]
  },
  {
   "cell_type": "code",
   "execution_count": null,
   "id": "21fc4a39",
   "metadata": {},
   "outputs": [],
   "source": [
    "np.eye(3, 2)"
   ]
  },
  {
   "cell_type": "code",
   "execution_count": null,
   "id": "b4e8f074",
   "metadata": {},
   "outputs": [],
   "source": [
    "np.eye(3, 2, dtype = \"bool\")"
   ]
  },
  {
   "cell_type": "markdown",
   "id": "85d2c3fe",
   "metadata": {},
   "source": [
    "## Creando con el Arreglo NumPy con la Funcion Linspace() "
   ]
  },
  {
   "cell_type": "code",
   "execution_count": null,
   "id": "27ee7bcd",
   "metadata": {},
   "outputs": [],
   "source": [
    "import numpy as np"
   ]
  },
  {
   "cell_type": "code",
   "execution_count": null,
   "id": "01334d7c",
   "metadata": {},
   "outputs": [],
   "source": [
    "np.linspace(10, 30, 10)"
   ]
  },
  {
   "cell_type": "markdown",
   "id": "c6b4e52e",
   "metadata": {},
   "source": [
    "## Creando Arreglo NumPy con la Funcion Random() "
   ]
  },
  {
   "cell_type": "code",
   "execution_count": null,
   "id": "46e2f17e",
   "metadata": {},
   "outputs": [],
   "source": [
    "import numpy as np"
   ]
  },
  {
   "cell_type": "code",
   "execution_count": null,
   "id": "d0626715",
   "metadata": {},
   "outputs": [],
   "source": [
    "# rand function\n",
    "np.random.rand(5)"
   ]
  },
  {
   "cell_type": "code",
   "execution_count": null,
   "id": "fc70e223",
   "metadata": {
    "scrolled": true
   },
   "outputs": [],
   "source": [
    "np.random.rand(2,3)"
   ]
  },
  {
   "cell_type": "code",
   "execution_count": null,
   "id": "51dc5a3c",
   "metadata": {
    "scrolled": true
   },
   "outputs": [],
   "source": [
    "# randn function\n",
    "np.random.randn(5)"
   ]
  },
  {
   "cell_type": "code",
   "execution_count": null,
   "id": "15fa429d",
   "metadata": {
    "scrolled": true
   },
   "outputs": [],
   "source": [
    "np.random.randn(2, 3)"
   ]
  },
  {
   "cell_type": "code",
   "execution_count": null,
   "id": "26cbcc01",
   "metadata": {
    "scrolled": true
   },
   "outputs": [],
   "source": [
    "# random.normal function\n",
    "np.random.normal(20, 5, (4, 3))"
   ]
  },
  {
   "cell_type": "code",
   "execution_count": 2,
   "id": "bb42212a",
   "metadata": {},
   "outputs": [
    {
     "ename": "NameError",
     "evalue": "name 'numpy' is not defined",
     "output_type": "error",
     "traceback": [
      "\u001b[1;31m---------------------------------------------------------------------------\u001b[0m",
      "\u001b[1;31mNameError\u001b[0m                                 Traceback (most recent call last)",
      "Cell \u001b[1;32mIn[2], line 2\u001b[0m\n\u001b[0;32m      1\u001b[0m \u001b[38;5;66;03m# randint function\u001b[39;00m\n\u001b[1;32m----> 2\u001b[0m numpy\u001b[38;5;241m.\u001b[39mrandom\u001b[38;5;241m.\u001b[39mrandint(\u001b[38;5;241m0\u001b[39m, \u001b[38;5;241m10\u001b[39m, (\u001b[38;5;241m4\u001b[39m, \u001b[38;5;241m4\u001b[39m))\n",
      "\u001b[1;31mNameError\u001b[0m: name 'numpy' is not defined"
     ]
    }
   ],
   "source": [
    "# randint function\n",
    "np.random.randint(0, 10, (4, 4))"
   ]
  },
  {
   "cell_type": "markdown",
   "id": "8aeba8c1",
   "metadata": {},
   "source": [
    "## Propiedades de un Arreglo NumPy "
   ]
  },
  {
   "cell_type": "code",
   "execution_count": null,
   "id": "9d7c1a49",
   "metadata": {},
   "outputs": [],
   "source": [
    "import numpy as np"
   ]
  },
  {
   "cell_type": "code",
   "execution_count": null,
   "id": "50fe0037",
   "metadata": {},
   "outputs": [],
   "source": [
    "matrix = np.random.randint(10, 50, (5, 4))"
   ]
  },
  {
   "cell_type": "code",
   "execution_count": null,
   "id": "d5e0a6d4",
   "metadata": {},
   "outputs": [],
   "source": [
    "matrix"
   ]
  },
  {
   "cell_type": "code",
   "execution_count": null,
   "id": "a5ebefa5",
   "metadata": {},
   "outputs": [],
   "source": [
    "matrix.ndim"
   ]
  },
  {
   "cell_type": "code",
   "execution_count": null,
   "id": "a8dc8954",
   "metadata": {},
   "outputs": [],
   "source": [
    "matrix.shape"
   ]
  },
  {
   "cell_type": "code",
   "execution_count": null,
   "id": "4108a1f7",
   "metadata": {},
   "outputs": [],
   "source": [
    "matrix.size"
   ]
  },
  {
   "cell_type": "code",
   "execution_count": null,
   "id": "debd9658",
   "metadata": {
    "scrolled": true
   },
   "outputs": [],
   "source": [
    "matrix.dtype"
   ]
  },
  {
   "cell_type": "markdown",
   "id": "505a7009",
   "metadata": {},
   "source": [
    "## Manipulando un Arreglo NumPy: Funcion Reshape()"
   ]
  },
  {
   "cell_type": "code",
   "execution_count": null,
   "id": "1f1424d6",
   "metadata": {},
   "outputs": [],
   "source": [
    "import numpy as np"
   ]
  },
  {
   "cell_type": "code",
   "execution_count": null,
   "id": "6686ff22",
   "metadata": {},
   "outputs": [],
   "source": [
    "example = np.arange(1, 16)"
   ]
  },
  {
   "cell_type": "code",
   "execution_count": null,
   "id": "95058188",
   "metadata": {},
   "outputs": [],
   "source": [
    "example"
   ]
  },
  {
   "cell_type": "code",
   "execution_count": null,
   "id": "899881ad",
   "metadata": {},
   "outputs": [],
   "source": [
    "example.reshape((3, 5))"
   ]
  },
  {
   "cell_type": "code",
   "execution_count": null,
   "id": "728f30c7",
   "metadata": {},
   "outputs": [],
   "source": [
    "array = example.reshape((1, 15))"
   ]
  },
  {
   "cell_type": "code",
   "execution_count": null,
   "id": "9b4be165",
   "metadata": {},
   "outputs": [],
   "source": [
    "array"
   ]
  },
  {
   "cell_type": "code",
   "execution_count": null,
   "id": "72f9c201",
   "metadata": {},
   "outputs": [],
   "source": [
    "example.ndim"
   ]
  },
  {
   "cell_type": "code",
   "execution_count": null,
   "id": "268866b6",
   "metadata": {},
   "outputs": [],
   "source": [
    "array.ndim"
   ]
  },
  {
   "cell_type": "code",
   "execution_count": null,
   "id": "0e1a4775",
   "metadata": {},
   "outputs": [],
   "source": [
    "example"
   ]
  },
  {
   "cell_type": "code",
   "execution_count": null,
   "id": "df672cf2",
   "metadata": {},
   "outputs": [],
   "source": [
    "example.reshape((4, 3))"
   ]
  },
  {
   "cell_type": "markdown",
   "id": "e0532bd5",
   "metadata": {},
   "source": [
    "## Identificando el Mayor Elemento de un Arreglo Numpy: Funciones Max(), Argmax() "
   ]
  },
  {
   "cell_type": "code",
   "execution_count": null,
   "id": "842ff882",
   "metadata": {},
   "outputs": [],
   "source": [
    "import numpy as np"
   ]
  },
  {
   "cell_type": "code",
   "execution_count": 10,
   "id": "4b79d82f",
   "metadata": {},
   "outputs": [],
   "source": [
    "array = np.random.randint(0, 50, 10)"
   ]
  },
  {
   "cell_type": "code",
   "execution_count": 11,
   "id": "d276e0ef",
   "metadata": {},
   "outputs": [
    {
     "data": {
      "text/plain": [
       "array([ 9, 40, 19, 34,  6, 16,  5,  8, 32, 33])"
      ]
     },
     "execution_count": 11,
     "metadata": {},
     "output_type": "execute_result"
    }
   ],
   "source": [
    "array"
   ]
  },
  {
   "cell_type": "code",
   "execution_count": 12,
   "id": "e978bb3a",
   "metadata": {},
   "outputs": [
    {
     "data": {
      "text/plain": [
       "40"
      ]
     },
     "execution_count": 12,
     "metadata": {},
     "output_type": "execute_result"
    }
   ],
   "source": [
    "array.max()"
   ]
  },
  {
   "cell_type": "code",
   "execution_count": 13,
   "id": "87d2de64",
   "metadata": {},
   "outputs": [
    {
     "data": {
      "text/plain": [
       "1"
      ]
     },
     "execution_count": 13,
     "metadata": {},
     "output_type": "execute_result"
    }
   ],
   "source": [
    "array.argmax()"
   ]
  },
  {
   "cell_type": "code",
   "execution_count": 14,
   "id": "6d79631c",
   "metadata": {},
   "outputs": [],
   "source": [
    "array2 = np.random.randint(0, 50, (4, 3))"
   ]
  },
  {
   "cell_type": "code",
   "execution_count": 15,
   "id": "e6f9cf37",
   "metadata": {},
   "outputs": [
    {
     "data": {
      "text/plain": [
       "array([[42, 16, 39],\n",
       "       [20, 47, 34],\n",
       "       [11, 40, 40],\n",
       "       [10, 37, 12]])"
      ]
     },
     "execution_count": 15,
     "metadata": {},
     "output_type": "execute_result"
    }
   ],
   "source": [
    "array2"
   ]
  },
  {
   "cell_type": "code",
   "execution_count": 16,
   "id": "63856649",
   "metadata": {},
   "outputs": [
    {
     "data": {
      "text/plain": [
       "47"
      ]
     },
     "execution_count": 16,
     "metadata": {},
     "output_type": "execute_result"
    }
   ],
   "source": [
    "array2.max()"
   ]
  },
  {
   "cell_type": "code",
   "execution_count": 17,
   "id": "72767a86",
   "metadata": {},
   "outputs": [
    {
     "data": {
      "text/plain": [
       "4"
      ]
     },
     "execution_count": 17,
     "metadata": {},
     "output_type": "execute_result"
    }
   ],
   "source": [
    "array2.argmax()"
   ]
  },
  {
   "cell_type": "markdown",
   "id": "e0c59a18",
   "metadata": {},
   "source": [
    "## Detectando el Menor Elemento de un Arreglo Numpy : Funciones Min(), Argmin() "
   ]
  },
  {
   "cell_type": "code",
   "execution_count": null,
   "id": "9fe65e39",
   "metadata": {},
   "outputs": [],
   "source": [
    "import numpy as np"
   ]
  },
  {
   "cell_type": "code",
   "execution_count": null,
   "id": "8079e132",
   "metadata": {},
   "outputs": [],
   "source": [
    "array = np.random.randint(20, 70, 10)"
   ]
  },
  {
   "cell_type": "code",
   "execution_count": null,
   "id": "2a81f9a3",
   "metadata": {},
   "outputs": [],
   "source": [
    "array"
   ]
  },
  {
   "cell_type": "code",
   "execution_count": null,
   "id": "bc1f40ef",
   "metadata": {},
   "outputs": [],
   "source": [
    "array.min()"
   ]
  },
  {
   "cell_type": "code",
   "execution_count": null,
   "id": "c586bd2a",
   "metadata": {},
   "outputs": [],
   "source": [
    "array.argmin()"
   ]
  },
  {
   "cell_type": "code",
   "execution_count": null,
   "id": "e48f44e6",
   "metadata": {},
   "outputs": [],
   "source": [
    "array2 = np.random.randint(20, 70, (5, 3))"
   ]
  },
  {
   "cell_type": "code",
   "execution_count": null,
   "id": "e9476d73",
   "metadata": {},
   "outputs": [],
   "source": [
    "array2"
   ]
  },
  {
   "cell_type": "code",
   "execution_count": null,
   "id": "ea321d40",
   "metadata": {},
   "outputs": [],
   "source": [
    "array2.min()"
   ]
  },
  {
   "cell_type": "code",
   "execution_count": null,
   "id": "1d3661a3",
   "metadata": {},
   "outputs": [],
   "source": [
    "array2.argmin()"
   ]
  },
  {
   "cell_type": "markdown",
   "id": "e06c569e",
   "metadata": {},
   "source": [
    "## Concatenando Arreglos Numpy: Funcion Concatenate() "
   ]
  },
  {
   "cell_type": "code",
   "execution_count": null,
   "id": "b4263926",
   "metadata": {},
   "outputs": [],
   "source": [
    "import numpy as np"
   ]
  },
  {
   "cell_type": "code",
   "execution_count": 18,
   "id": "1e92ccf4",
   "metadata": {},
   "outputs": [],
   "source": [
    "array1 = np.array([1, 2, 3, 4])\n",
    "array2 = np.array([5, 6, 7, 8])"
   ]
  },
  {
   "cell_type": "code",
   "execution_count": 19,
   "id": "86368a84",
   "metadata": {},
   "outputs": [
    {
     "data": {
      "text/plain": [
       "array([1, 2, 3, 4, 5, 6, 7, 8])"
      ]
     },
     "execution_count": 19,
     "metadata": {},
     "output_type": "execute_result"
    }
   ],
   "source": [
    "np.concatenate([array1, array2])"
   ]
  },
  {
   "cell_type": "code",
   "execution_count": 20,
   "id": "5328ec55",
   "metadata": {},
   "outputs": [],
   "source": [
    "array3 = np.arange(1, 7).reshape((2, 3))"
   ]
  },
  {
   "cell_type": "code",
   "execution_count": 21,
   "id": "bc037e44",
   "metadata": {},
   "outputs": [
    {
     "data": {
      "text/plain": [
       "array([[1, 2, 3],\n",
       "       [4, 5, 6]])"
      ]
     },
     "execution_count": 21,
     "metadata": {},
     "output_type": "execute_result"
    }
   ],
   "source": [
    "array3"
   ]
  },
  {
   "cell_type": "code",
   "execution_count": 22,
   "id": "df615b9c",
   "metadata": {},
   "outputs": [],
   "source": [
    "array4 = np.array([[7, 8, 9], [10, 11, 12]])"
   ]
  },
  {
   "cell_type": "code",
   "execution_count": 23,
   "id": "8a702b89",
   "metadata": {},
   "outputs": [
    {
     "data": {
      "text/plain": [
       "array([[ 7,  8,  9],\n",
       "       [10, 11, 12]])"
      ]
     },
     "execution_count": 23,
     "metadata": {},
     "output_type": "execute_result"
    }
   ],
   "source": [
    "array4 "
   ]
  },
  {
   "cell_type": "code",
   "execution_count": null,
   "id": "1263f9e4",
   "metadata": {},
   "outputs": [],
   "source": [
    "np.concatenate([array3, array4])"
   ]
  },
  {
   "cell_type": "code",
   "execution_count": null,
   "id": "7f3f3bd5",
   "metadata": {},
   "outputs": [],
   "source": [
    "np.concatenate([array3, array4], axis = 1)"
   ]
  },
  {
   "cell_type": "code",
   "execution_count": null,
   "id": "7294db67",
   "metadata": {
    "scrolled": true
   },
   "outputs": [],
   "source": [
    "np.concatenate([array1, array3])"
   ]
  },
  {
   "cell_type": "code",
   "execution_count": 35,
   "id": "0012017f",
   "metadata": {},
   "outputs": [],
   "source": [
    "array5 = np.arange(1,7).reshape(2 , 3)"
   ]
  },
  {
   "cell_type": "code",
   "execution_count": 36,
   "id": "3ba84b43",
   "metadata": {},
   "outputs": [
    {
     "data": {
      "text/plain": [
       "array([[1, 2, 3],\n",
       "       [4, 5, 6]])"
      ]
     },
     "execution_count": 36,
     "metadata": {},
     "output_type": "execute_result"
    }
   ],
   "source": [
    "array5 "
   ]
  },
  {
   "cell_type": "code",
   "execution_count": 39,
   "id": "1ecc98f9",
   "metadata": {},
   "outputs": [
    {
     "data": {
      "text/plain": [
       "array([[1, 2, 3, 1, 2, 3],\n",
       "       [4, 5, 6, 4, 5, 6]])"
      ]
     },
     "execution_count": 39,
     "metadata": {},
     "output_type": "execute_result"
    }
   ],
   "source": [
    "np.concatenate([array3, array5], axis=1)"
   ]
  },
  {
   "cell_type": "markdown",
   "id": "b6d62203",
   "metadata": {},
   "source": [
    "## Dividiendo Arreglos Uni-Dimensional Numpy : La Funcion Split() "
   ]
  },
  {
   "cell_type": "code",
   "execution_count": null,
   "id": "19f16167",
   "metadata": {},
   "outputs": [],
   "source": [
    "import numpy as np"
   ]
  },
  {
   "cell_type": "code",
   "execution_count": null,
   "id": "f62c09b2",
   "metadata": {},
   "outputs": [],
   "source": [
    "array = np.array([1, 3, 5, 50, 50 , 2, 4, 6])"
   ]
  },
  {
   "cell_type": "code",
   "execution_count": null,
   "id": "07749052",
   "metadata": {},
   "outputs": [],
   "source": [
    "np.split(array, [3, 5])"
   ]
  },
  {
   "cell_type": "code",
   "execution_count": null,
   "id": "f80397a9",
   "metadata": {},
   "outputs": [],
   "source": [
    "x, y, z = np.split(array, [3, 5])"
   ]
  },
  {
   "cell_type": "code",
   "execution_count": null,
   "id": "e9cba1e5",
   "metadata": {},
   "outputs": [],
   "source": [
    "x"
   ]
  },
  {
   "cell_type": "code",
   "execution_count": null,
   "id": "cc0e3505",
   "metadata": {},
   "outputs": [],
   "source": [
    "y"
   ]
  },
  {
   "cell_type": "code",
   "execution_count": null,
   "id": "a62dacf7",
   "metadata": {},
   "outputs": [],
   "source": [
    "z"
   ]
  },
  {
   "cell_type": "code",
   "execution_count": null,
   "id": "5e9ebce9",
   "metadata": {},
   "outputs": [],
   "source": [
    "np.split(array, 4)"
   ]
  },
  {
   "cell_type": "code",
   "execution_count": null,
   "id": "b72b4f47",
   "metadata": {},
   "outputs": [],
   "source": [
    "np.split(array, 5)"
   ]
  },
  {
   "cell_type": "markdown",
   "id": "b8b8e57e",
   "metadata": {},
   "source": [
    "## Dividiendo Arreglos Bi-Dimensionales Numpy : Funcion Split(), Vsplit, Hsplit() "
   ]
  },
  {
   "cell_type": "code",
   "execution_count": null,
   "id": "aae0faee",
   "metadata": {},
   "outputs": [],
   "source": [
    "import numpy as np"
   ]
  },
  {
   "cell_type": "code",
   "execution_count": null,
   "id": "a9b453f1",
   "metadata": {},
   "outputs": [],
   "source": [
    "array = np.arange(20).reshape(5, 4)"
   ]
  },
  {
   "cell_type": "code",
   "execution_count": null,
   "id": "e788e5e8",
   "metadata": {},
   "outputs": [],
   "source": [
    "array"
   ]
  },
  {
   "cell_type": "code",
   "execution_count": null,
   "id": "9cda9d68",
   "metadata": {},
   "outputs": [],
   "source": [
    "np.split(array, [1, 3])"
   ]
  },
  {
   "cell_type": "code",
   "execution_count": null,
   "id": "04bcf3d5",
   "metadata": {},
   "outputs": [],
   "source": [
    "x, y, z = np.split(array, [1, 3])"
   ]
  },
  {
   "cell_type": "code",
   "execution_count": null,
   "id": "8bcc1153",
   "metadata": {},
   "outputs": [],
   "source": [
    "x"
   ]
  },
  {
   "cell_type": "code",
   "execution_count": null,
   "id": "97bd10ea",
   "metadata": {},
   "outputs": [],
   "source": [
    "y"
   ]
  },
  {
   "cell_type": "code",
   "execution_count": null,
   "id": "f89d8b25",
   "metadata": {},
   "outputs": [],
   "source": [
    "z"
   ]
  },
  {
   "cell_type": "code",
   "execution_count": null,
   "id": "29fc03e9",
   "metadata": {},
   "outputs": [],
   "source": [
    "np.split(array, [1, 3], axis = 1)"
   ]
  },
  {
   "cell_type": "code",
   "execution_count": null,
   "id": "e77b7461",
   "metadata": {},
   "outputs": [],
   "source": [
    "# hsplit() function"
   ]
  },
  {
   "cell_type": "code",
   "execution_count": null,
   "id": "1e1a724d",
   "metadata": {},
   "outputs": [],
   "source": [
    "array"
   ]
  },
  {
   "cell_type": "code",
   "execution_count": null,
   "id": "b4ce2559",
   "metadata": {},
   "outputs": [],
   "source": [
    "np.hsplit(array, 4)"
   ]
  },
  {
   "cell_type": "code",
   "execution_count": null,
   "id": "6a89a52b",
   "metadata": {},
   "outputs": [],
   "source": [
    "np.hsplit(array, [1, 3]) "
   ]
  },
  {
   "cell_type": "code",
   "execution_count": null,
   "id": "757caae2",
   "metadata": {},
   "outputs": [],
   "source": [
    "# vsplit() function"
   ]
  },
  {
   "cell_type": "code",
   "execution_count": null,
   "id": "81e0a8d4",
   "metadata": {},
   "outputs": [],
   "source": [
    "array"
   ]
  },
  {
   "cell_type": "code",
   "execution_count": null,
   "id": "78067729",
   "metadata": {},
   "outputs": [],
   "source": [
    "np.vsplit(array, 5)"
   ]
  },
  {
   "cell_type": "code",
   "execution_count": null,
   "id": "e26ea19f",
   "metadata": {},
   "outputs": [],
   "source": [
    "np.vsplit(array, [2, 4])"
   ]
  },
  {
   "cell_type": "markdown",
   "id": "231653eb",
   "metadata": {},
   "source": [
    "## Ordenando Arreglos Numpy: Funcion Sort()"
   ]
  },
  {
   "cell_type": "code",
   "execution_count": null,
   "id": "2848412e",
   "metadata": {},
   "outputs": [],
   "source": [
    "import numpy as np"
   ]
  },
  {
   "cell_type": "code",
   "execution_count": null,
   "id": "0b6b8dea",
   "metadata": {},
   "outputs": [],
   "source": [
    "variable = np.array([3, 5, 1, 8, 6, 2, 9])"
   ]
  },
  {
   "cell_type": "code",
   "execution_count": null,
   "id": "ec4c2fa4",
   "metadata": {},
   "outputs": [],
   "source": [
    "variable"
   ]
  },
  {
   "cell_type": "code",
   "execution_count": null,
   "id": "c99fe02b",
   "metadata": {},
   "outputs": [],
   "source": [
    "np.sort(variable)"
   ]
  },
  {
   "cell_type": "code",
   "execution_count": null,
   "id": "ebadd760",
   "metadata": {
    "scrolled": true
   },
   "outputs": [],
   "source": [
    "variable"
   ]
  },
  {
   "cell_type": "code",
   "execution_count": null,
   "id": "d24e6dc3",
   "metadata": {},
   "outputs": [],
   "source": [
    "variable2 = np.sort(variable)"
   ]
  },
  {
   "cell_type": "code",
   "execution_count": null,
   "id": "53017950",
   "metadata": {},
   "outputs": [],
   "source": [
    "variable2"
   ]
  },
  {
   "cell_type": "code",
   "execution_count": null,
   "id": "d5756a55",
   "metadata": {},
   "outputs": [],
   "source": [
    "example = np.random.normal(30, 10, (4, 4))"
   ]
  },
  {
   "cell_type": "code",
   "execution_count": null,
   "id": "c4f3f7f7",
   "metadata": {},
   "outputs": [],
   "source": [
    "example"
   ]
  },
  {
   "cell_type": "code",
   "execution_count": null,
   "id": "a9cc053a",
   "metadata": {},
   "outputs": [],
   "source": [
    "np.sort(example, axis = 0)"
   ]
  },
  {
   "cell_type": "code",
   "execution_count": null,
   "id": "3b345ac4",
   "metadata": {},
   "outputs": [],
   "source": [
    "np.sort(example, axis = 1)"
   ]
  }
 ],
 "metadata": {
  "kernelspec": {
   "display_name": "Python 3 (ipykernel)",
   "language": "python",
   "name": "python3"
  },
  "language_info": {
   "codemirror_mode": {
    "name": "ipython",
    "version": 3
   },
   "file_extension": ".py",
   "mimetype": "text/x-python",
   "name": "python",
   "nbconvert_exporter": "python",
   "pygments_lexer": "ipython3",
   "version": "3.11.5"
  }
 },
 "nbformat": 4,
 "nbformat_minor": 5
}
